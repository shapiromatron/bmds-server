{
 "cells": [
  {
   "cell_type": "markdown",
   "metadata": {},
   "source": [
    "# BMDS online verison 3.3 - API\n",
    "\n",
    "A work in progress to demonstrate how to use the BMDS Online API."
   ]
  },
  {
   "cell_type": "code",
   "execution_count": 1,
   "metadata": {},
   "outputs": [],
   "source": [
    "import json\n",
    "import requests\n",
    "from pathlib import Path\n",
    "import time"
   ]
  },
  {
   "cell_type": "code",
   "execution_count": 2,
   "metadata": {},
   "outputs": [],
   "source": [
    "payload = \"\"\"{\"editKey\":\"gs2bhkbqu4q0\",\"partial\":true,\"data\":{\"bmds_version\":\"BMDS330\",\"analysis_name\":\"demo\",\"analysis_description\":\"test\",\"dataset_type\":\"D\",\"models\":{\"frequentist_restricted\":[\"Dichotomous-Hill\",\"Gamma\",\"LogLogistic\",\"LogProbit\",\"Weibull\"]},\"datasets\":[{\"ns\":[9,9,11,10,7],\"doses\":[0,0.46,1.39,4.17,12.5],\"enabled\":true,\"dataset_id\":0,\"incidences\":[0,0,3,2,3],\"model_type\":\"DM\",\"column_names\":{\"ns\":\"N\",\"doses\":\"Dose\",\"incidences\":\"Incidence\"},\"dataset_name\":\"Dataset #1\"}],\"options\":[{\"bmr_type\":\"Extra\",\"bmr_value\":0.1,\"background\":\"Estimated\",\"confidence_level\":0.95}],\"logic\":{\"rules\":{\"gof\":{\"threshold\":0.1,\"failure_bin\":0,\"enabled_nested\":true,\"enabled_continuous\":true,\"enabled_dichotomous\":true},\"dof_zero\":{\"threshold\":\"\",\"failure_bin\":0,\"enabled_nested\":true,\"enabled_continuous\":true,\"enabled_dichotomous\":true},\"high_bmd\":{\"threshold\":1,\"failure_bin\":1,\"enabled_nested\":true,\"enabled_continuous\":true,\"enabled_dichotomous\":true},\"warnings\":{\"threshold\":\"\",\"failure_bin\":1,\"enabled_nested\":false,\"enabled_continuous\":false,\"enabled_dichotomous\":false},\"high_bmdl\":{\"threshold\":1,\"failure_bin\":1,\"enabled_nested\":true,\"enabled_continuous\":true,\"enabled_dichotomous\":true},\"roi_large\":{\"threshold\":2,\"failure_bin\":0,\"enabled_nested\":true,\"enabled_continuous\":true,\"enabled_dichotomous\":true},\"gof_cancer\":{\"threshold\":0.05,\"failure_bin\":0,\"enabled_nested\":false,\"enabled_continuous\":false,\"enabled_dichotomous\":true},\"aic_missing\":{\"threshold\":\"\",\"failure_bin\":2,\"enabled_nested\":true,\"enabled_continuous\":true,\"enabled_dichotomous\":true},\"bmd_missing\":{\"threshold\":\"\",\"failure_bin\":2,\"enabled_nested\":true,\"enabled_continuous\":true,\"enabled_dichotomous\":true},\"roi_missing\":{\"threshold\":\"\",\"failure_bin\":2,\"enabled_nested\":true,\"enabled_continuous\":true,\"enabled_dichotomous\":true},\"bmdl_missing\":{\"threshold\":\"\",\"failure_bin\":2,\"enabled_nested\":true,\"enabled_continuous\":true,\"enabled_dichotomous\":true},\"bmdu_missing\":{\"threshold\":\"\",\"failure_bin\":1,\"enabled_nested\":false,\"enabled_continuous\":false,\"enabled_dichotomous\":false},\"low_bmd_fail\":{\"threshold\":10,\"failure_bin\":0,\"enabled_nested\":true,\"enabled_continuous\":true,\"enabled_dichotomous\":true},\"low_bmd_warn\":{\"threshold\":3,\"failure_bin\":1,\"enabled_nested\":true,\"enabled_continuous\":true,\"enabled_dichotomous\":true},\"variance_fit\":{\"threshold\":0.05,\"failure_bin\":0,\"enabled_nested\":false,\"enabled_continuous\":true,\"enabled_dichotomous\":false},\"low_bmdl_fail\":{\"threshold\":10,\"failure_bin\":0,\"enabled_nested\":true,\"enabled_continuous\":true,\"enabled_dichotomous\":true},\"low_bmdl_warn\":{\"threshold\":3,\"failure_bin\":1,\"enabled_nested\":true,\"enabled_continuous\":true,\"enabled_dichotomous\":true},\"variance_type\":{\"threshold\":0.05,\"failure_bin\":1,\"enabled_nested\":false,\"enabled_continuous\":true,\"enabled_dichotomous\":false},\"control_stdev_fit\":{\"threshold\":1.5,\"failure_bin\":1,\"enabled_nested\":false,\"enabled_continuous\":true,\"enabled_dichotomous\":false},\"bmd_bmdl_ratio_fail\":{\"threshold\":20,\"failure_bin\":0,\"enabled_nested\":true,\"enabled_continuous\":true,\"enabled_dichotomous\":true},\"bmd_bmdl_ratio_warn\":{\"threshold\":3,\"failure_bin\":1,\"enabled_nested\":true,\"enabled_continuous\":true,\"enabled_dichotomous\":true},\"control_residual_high\":{\"threshold\":2,\"failure_bin\":1,\"enabled_nested\":true,\"enabled_continuous\":true,\"enabled_dichotomous\":true}},\"recommend_viable\":true,\"recommend_questionable\":false,\"sufficiently_close_bmdl\":3}}}\"\"\"\n",
    "logic = json.loads(payload)['data']['logic']"
   ]
  },
  {
   "cell_type": "code",
   "execution_count": 3,
   "metadata": {},
   "outputs": [],
   "source": [
    "data = {\n",
    "    \"bmds_version\": \"BMDS330\",\n",
    "    \"analysis_name\": \"demo\",\n",
    "    \"analysis_description\": \"test\",\n",
    "    \"dataset_type\": \"D\",\n",
    "    \"models\": {\n",
    "        \"frequentist_unrestricted\": [\n",
    "            \"Dichotomous-Hill\",\n",
    "            \"Gamma\",\n",
    "            \"LogLogistic\",\n",
    "            \"LogProbit\",\n",
    "            \"Logistic\",\n",
    "            \"Probit\",\n",
    "            \"Weibull\",\n",
    "        ]\n",
    "    },\n",
    "    \"datasets\": [\n",
    "        {\n",
    "            \"ns\": [9, 9, 11, 10, 7],\n",
    "            \"doses\": [0, 0.46, 1.39, 4.17, 12.5],\n",
    "            \"enabled\": True,\n",
    "            \"dataset_id\": 0,\n",
    "            \"incidences\": [0, 0, 3, 2, 3],\n",
    "            \"model_type\": \"DM\",\n",
    "            \"column_names\": {\n",
    "                \"ns\": \"N\", \n",
    "                \"doses\": \"Dose\", \n",
    "                \"incidences\": \"Incidence\"\n",
    "            },\n",
    "            \"dataset_name\": \"Dataset #1\",\n",
    "        }\n",
    "    ],\n",
    "    \"options\": [\n",
    "        {\"bmr_type\": \"Extra\", \"bmr_value\": 0.1, \"background\": \"Estimated\", \"confidence_level\": 0.95}\n",
    "    ],\n",
    "    \"logic\": logic\n",
    "}"
   ]
  },
  {
   "cell_type": "code",
   "execution_count": 4,
   "metadata": {},
   "outputs": [],
   "source": [
    "root = \"http://127.0.0.1:5550\"\n",
    "create_url = \"/api/v1/job/\""
   ]
  },
  {
   "cell_type": "code",
   "execution_count": 5,
   "metadata": {},
   "outputs": [
    {
     "name": "stdout",
     "output_type": "stream",
     "text": [
      "201\n"
     ]
    }
   ],
   "source": [
    "resp = requests.post(root + create_url, json=dict(inputs=data))\n",
    "print(resp.status_code)\n",
    "output = resp.json()"
   ]
  },
  {
   "cell_type": "code",
   "execution_count": 6,
   "metadata": {},
   "outputs": [
    {
     "name": "stdout",
     "output_type": "stream",
     "text": [
      "Polling...\n"
     ]
    }
   ],
   "source": [
    "poll_url = root + output['api_url']\n",
    "while output['is_finished'] is False:\n",
    "    print(\"Polling...\")\n",
    "    time.sleep(1)\n",
    "    resp = requests.get(poll_url)\n",
    "    output = resp.json()\n",
    "    "
   ]
  },
  {
   "cell_type": "code",
   "execution_count": 7,
   "metadata": {},
   "outputs": [
    {
     "data": {
      "text/plain": [
       "{'results': {'aic': 41.50669368126711,\n",
       "  'bmd': 0.9447511030013629,\n",
       "  'fit': {'cov': [[1964909.0730664653,\n",
       "     2.2908012128639843,\n",
       "     1.7985458979813416,\n",
       "     -83.8552592379433],\n",
       "    [2.2908012130249538,\n",
       "     0.2556226264923172,\n",
       "     -1.009759410085084,\n",
       "     -1.1009683696920616],\n",
       "    [1.7985459004171105,\n",
       "     -1.0097594100850777,\n",
       "     24.85841578447824,\n",
       "     -21.093255211304268],\n",
       "    [-83.85525924116398,\n",
       "     -1.1009683696920571,\n",
       "     -21.093255211304324,\n",
       "     131.99131800494922]],\n",
       "   'max': 16.753346840633554,\n",
       "   'model': {'id': 1, 'params': ['a', 'b', 'c', 'd'], 'verbose': 'Hill'},\n",
       "   'params': [-17.999987391264558,\n",
       "    -0.8564043055751586,\n",
       "    -0.27239291611321903,\n",
       "    7.234503578715854],\n",
       "   'bmd_dist': [[0.7288911813952538,\n",
       "     0.7354971392376395,\n",
       "     0.7422288004574837,\n",
       "     0.7491445964995801,\n",
       "     0.7562259655003359,\n",
       "     0.7634975845152987,\n",
       "     0.7709282140764542,\n",
       "     0.7784700949637998,\n",
       "     0.7861591092594095,\n",
       "     0.7940647828450534,\n",
       "     0.8021347049384774,\n",
       "     0.8102664655046556,\n",
       "     0.8184908988066019,\n",
       "     0.8268243073394,\n",
       "     0.8352766355476002,\n",
       "     0.8439030835661998,\n",
       "     0.852650071757209,\n",
       "     0.8614612942044027,\n",
       "     0.8702535099862481,\n",
       "     0.8787698923348418,\n",
       "     0.8871733900662253,\n",
       "     0.8957078237978783,\n",
       "     0.9043130920840636,\n",
       "     0.9130542853836429,\n",
       "     0.921855955566993,\n",
       "     0.9299878265352295,\n",
       "     0.9374189207649705,\n",
       "     0.9447511030013629,\n",
       "     0.9523006554929304,\n",
       "     0.9598128523233402,\n",
       "     0.9670620880212893,\n",
       "     0.9740329260788917,\n",
       "     0.9809184720749853,\n",
       "     0.9879053941521294,\n",
       "     0.9949346574431424,\n",
       "     1.0017645838607359,\n",
       "     1.0082257310596825,\n",
       "     1.014416147773569,\n",
       "     1.020471522945165,\n",
       "     1.026498362113175,\n",
       "     1.0324527303658582,\n",
       "     1.0382915429776782,\n",
       "     1.0439768743621032,\n",
       "     1.0494868039253518,\n",
       "     1.0548500581718536,\n",
       "     1.0601049459417218,\n",
       "     1.0652874723821535,\n",
       "     1.0703817216017375,\n",
       "     1.0753826385651981,\n",
       "     1.0803012241845844,\n",
       "     1.0851484793719464,\n",
       "     1.0898970172862983,\n",
       "     1.094541748161996,\n",
       "     1.099131268224416,\n",
       "     1.103714184405928],\n",
       "    [0.365,\n",
       "     0.37,\n",
       "     0.375,\n",
       "     0.38,\n",
       "     0.385,\n",
       "     0.39,\n",
       "     0.395,\n",
       "     0.4,\n",
       "     0.405,\n",
       "     0.41,\n",
       "     0.415,\n",
       "     0.42,\n",
       "     0.425,\n",
       "     0.43,\n",
       "     0.435,\n",
       "     0.44,\n",
       "     0.445,\n",
       "     0.45,\n",
       "     0.455,\n",
       "     0.46,\n",
       "     0.465,\n",
       "     0.47,\n",
       "     0.475,\n",
       "     0.48,\n",
       "     0.485,\n",
       "     0.49,\n",
       "     0.495,\n",
       "     0.5,\n",
       "     0.505,\n",
       "     0.51,\n",
       "     0.515,\n",
       "     0.52,\n",
       "     0.525,\n",
       "     0.53,\n",
       "     0.535,\n",
       "     0.54,\n",
       "     0.545,\n",
       "     0.55,\n",
       "     0.555,\n",
       "     0.56,\n",
       "     0.565,\n",
       "     0.57,\n",
       "     0.575,\n",
       "     0.58,\n",
       "     0.585,\n",
       "     0.59,\n",
       "     0.595,\n",
       "     0.6,\n",
       "     0.605,\n",
       "     0.61,\n",
       "     0.615,\n",
       "     0.62,\n",
       "     0.625,\n",
       "     0.63,\n",
       "     0.635]],\n",
       "   'model_df': 3.9999999999999782,\n",
       "   'total_df': 0.0,\n",
       "   'dist_numE': 200,\n",
       "   'num_params': 4},\n",
       "  'gof': {'df': 1.0000000000000218,\n",
       "   'p_value': 0.3922799121202948,\n",
       "   'expected': [1.3707154390275478e-07,\n",
       "    0.007401528275540834,\n",
       "    2.924434609814579,\n",
       "    2.980783751678894,\n",
       "    2.0866379971131757],\n",
       "   'residual': [-0.00037023174351040564,\n",
       "    -0.08603213513298874,\n",
       "    0.044187758489693876,\n",
       "    -0.568078074124869,\n",
       "    0.6322944716390008],\n",
       "   'test_statistic': 0.7318632205140916},\n",
       "  'bmdl': 0.0,\n",
       "  'bmdu': -9999.0,\n",
       "  'bounded': [False, False, False, False],\n",
       "  'model_name': 'Hill',\n",
       "  'model_class': 'Hill'},\n",
       " 'settings': {'bmr': 0.1,\n",
       "  'alpha': 0.95,\n",
       "  'burnin': 20,\n",
       "  'degree': 3,\n",
       "  'samples': 100,\n",
       "  'bmr_type': 2},\n",
       " 'has_output': True,\n",
       " 'model_name': 'Hill',\n",
       " 'model_class': 1,\n",
       " 'model_index': 0,\n",
       " 'model_version': 'BMDS330',\n",
       " 'execution_halted': False}"
      ]
     },
     "execution_count": 7,
     "metadata": {},
     "output_type": "execute_result"
    }
   ],
   "source": [
    "output['outputs']['outputs'][0]['models'][0]"
   ]
  },
  {
   "cell_type": "code",
   "execution_count": 8,
   "metadata": {},
   "outputs": [
    {
     "data": {
      "text/plain": [
       "44082"
      ]
     },
     "execution_count": 8,
     "metadata": {},
     "output_type": "execute_result"
    }
   ],
   "source": [
    "excel_url = root + output['word_url']\n",
    "resp = requests.get(excel_url)\n",
    "Path('/Users/shapiromatron/Desktop/demo.docx').write_bytes(resp.content)"
   ]
  },
  {
   "cell_type": "code",
   "execution_count": 9,
   "metadata": {},
   "outputs": [
    {
     "data": {
      "text/plain": [
       "6292"
      ]
     },
     "execution_count": 9,
     "metadata": {},
     "output_type": "execute_result"
    }
   ],
   "source": [
    "word_url = root + output['excel_url']\n",
    "resp = requests.get(word_url)\n",
    "Path('/Users/shapiromatron/Desktop/demo.xlsx').write_bytes(resp.content)"
   ]
  },
  {
   "cell_type": "code",
   "execution_count": 10,
   "metadata": {},
   "outputs": [
    {
     "name": "stdout",
     "output_type": "stream",
     "text": [
      "complete!\n"
     ]
    }
   ],
   "source": [
    "print('complete!')"
   ]
  }
 ],
 "metadata": {
  "kernelspec": {
   "display_name": "Python 3",
   "language": "python",
   "name": "python3"
  },
  "language_info": {
   "codemirror_mode": {
    "name": "ipython",
    "version": 3
   },
   "file_extension": ".py",
   "mimetype": "text/x-python",
   "name": "python",
   "nbconvert_exporter": "python",
   "pygments_lexer": "ipython3",
   "version": "3.6.10"
  }
 },
 "nbformat": 4,
 "nbformat_minor": 4
}
