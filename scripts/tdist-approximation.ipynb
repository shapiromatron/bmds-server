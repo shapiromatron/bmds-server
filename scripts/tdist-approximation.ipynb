{
 "cells": [
  {
   "cell_type": "markdown",
   "id": "7241ac17-c6c3-4879-ac88-f5eb95e10c29",
   "metadata": {},
   "source": [
    "# tdist estimation proof in javascript\n",
    "\n",
    "This notebook should act as a proof to the reliability of the javascript estimation. This method is used for plotting confidence intervals on group summary data. Since it's only used for plotting, it doesn't need to be extremely precise."
   ]
  },
  {
   "cell_type": "code",
   "execution_count": 1,
   "id": "004b59d4-2d42-42fc-809f-4b11c369a588",
   "metadata": {},
   "outputs": [],
   "source": [
    "%matplotlib inline\n",
    "import json\n",
    "\n",
    "import numpy as np\n",
    "import pandas as pd\n",
    "from scipy.stats import t"
   ]
  },
  {
   "cell_type": "markdown",
   "id": "d114a74b-63f1-456e-b9ff-2156ccb30e4c",
   "metadata": {},
   "source": [
    "## Generate \"truth\""
   ]
  },
  {
   "cell_type": "code",
   "execution_count": 2,
   "id": "b2f4c01e-70f0-4f6b-a58d-b611732fade4",
   "metadata": {},
   "outputs": [],
   "source": [
    "dfs = np.arange(1,350)\n",
    "lowers = t.ppf(0.025, dfs)\n",
    "uppers = t.ppf(0.975, dfs)"
   ]
  },
  {
   "cell_type": "code",
   "execution_count": 3,
   "id": "244b6f28-e68b-46ea-897b-c80ab4bec094",
   "metadata": {},
   "outputs": [],
   "source": [
    "# prove that lowers == uppers *-1; so we dont' need to capture both\n",
    "assert np.allclose(lowers* -1, uppers) is True"
   ]
  },
  {
   "cell_type": "code",
   "execution_count": 4,
   "id": "f962f766-78de-434d-b43e-c6cb7d623345",
   "metadata": {},
   "outputs": [
    {
     "data": {
      "text/plain": [
       "<AxesSubplot:xlabel='df'>"
      ]
     },
     "execution_count": 4,
     "metadata": {},
     "output_type": "execute_result"
    },
    {
     "data": {
      "image/png": "[encoded data removed]",
      "text/plain": [
       "<Figure size 432x288 with 1 Axes>"
      ]
     },
     "metadata": {
      "needs_background": "light"
     },
     "output_type": "display_data"
    }
   ],
   "source": [
    "df = pd.DataFrame(data=dict(df=dfs, uppers=t.ppf(0.975, dfs)))\n",
    "df.plot(\"df\", \"uppers\", logx=True)"
   ]
  },
  {
   "cell_type": "markdown",
   "id": "3a747518-e854-4ef5-b573-ce11a55a0c18",
   "metadata": {},
   "source": [
    "## Translate javascript to python:\n",
    "\n",
    "As shown in permalink: [source](https://github.com/shapiromatron/bmds-server/blob/792877f8a41aef28781db9232e71a95cbb3e790b/frontend/src/utils/errorBars.js#L3-L59)\n",
    "\n",
    "```javascript\n",
    "inv_tdist_05 = function(df) {\n",
    "    // Calculates the inverse t-distribution using a piecewise linear form for\n",
    "    // the degrees of freedom specified. Assumes a two-tailed distribution with\n",
    "    // an alpha of 0.05. Based on curve-fitting using Excel's T.INV.2T function\n",
    "    // with a maximum absolute error of 0.00924 and percent error of 0.33%.\n",
    "    //\n",
    "    // Roughly equivalent to scipy.stats.t.ppf(0.975, df)\n",
    "    var b;\n",
    "    if (df < 1) {\n",
    "        return NaN;\n",
    "    } else if (df == 1) {\n",
    "        return 12.7062047361747;\n",
    "    } else if (df < 12) {\n",
    "        b = [\n",
    "            7.9703237683e-5,\n",
    "            -3.5145890027e-3,\n",
    "            0.063259191874,\n",
    "            -0.5963723075,\n",
    "            3.129413441,\n",
    "            -8.8538894383,\n",
    "            13.358101926,\n",
    "        ];\n",
    "    } else if (df < 62) {\n",
    "        b = [\n",
    "            1.1184055716e-10,\n",
    "            -2.7885328039e-8,\n",
    "            2.8618499662e-6,\n",
    "            -1.5585120701e-4,\n",
    "            4.8300645273e-3,\n",
    "            -0.084316656676,\n",
    "            2.7109288893,\n",
    "        ];\n",
    "    } else {\n",
    "        b = [\n",
    "            5.1474329765e-16,\n",
    "            -7.262226388e-13,\n",
    "            4.2142967681e-10,\n",
    "            -1.2973354626e-7,\n",
    "            2.275308052e-5,\n",
    "            -2.2594979441e-3,\n",
    "            2.0766977669,\n",
    "        ];\n",
    "        if (df > 350) {\n",
    "            console.warn(\"Extrapolating beyond inv_tdist_05 regression range (N>350).\");\n",
    "            return undefined;\n",
    "        }\n",
    "    }\n",
    "    return (\n",
    "        b[0] * Math.pow(df, 6) +\n",
    "        b[1] * Math.pow(df, 5) +\n",
    "        b[2] * Math.pow(df, 4) +\n",
    "        b[3] * Math.pow(df, 3) +\n",
    "        b[4] * Math.pow(df, 2) +\n",
    "        b[5] * Math.pow(df, 1) +\n",
    "        b[6]\n",
    "    );\n",
    "}\n",
    "```"
   ]
  },
  {
   "cell_type": "code",
   "execution_count": 5,
   "id": "081e0f0a-e326-4605-bc4d-3392e2ef082a",
   "metadata": {},
   "outputs": [],
   "source": [
    "def inv_tdist_05(df):\n",
    "        \n",
    "        if df < 1 or df >350:\n",
    "            raise ValueError()\n",
    "            \n",
    "        if df == 1:\n",
    "            return 12.7062047361747;\n",
    "        \n",
    "        if (df < 12):\n",
    "            b = [\n",
    "                7.9703237683e-5,\n",
    "                -3.5145890027e-3,\n",
    "                0.063259191874,\n",
    "                -0.5963723075,\n",
    "                3.129413441,\n",
    "                -8.8538894383,\n",
    "                13.358101926,\n",
    "            ];\n",
    "            \n",
    "        elif (df < 62):\n",
    "            b = [\n",
    "                1.1184055716e-10,\n",
    "                -2.7885328039e-8,\n",
    "                2.8618499662e-6,\n",
    "                -1.5585120701e-4,\n",
    "                4.8300645273e-3,\n",
    "                -0.084316656676,\n",
    "                2.7109288893,\n",
    "            ];\n",
    "            \n",
    "        else:\n",
    "            b = [\n",
    "                5.1474329765e-16,\n",
    "                -7.262226388e-13,\n",
    "                4.2142967681e-10,\n",
    "                -1.2973354626e-7,\n",
    "                2.275308052e-5,\n",
    "                -2.2594979441e-3,\n",
    "                2.0766977669,\n",
    "            ];\n",
    "        \n",
    "        p = np.poly1d(b)\n",
    "        return p(df)            \n",
    "    \n",
    "simulated = [inv_tdist_05(i) for i in dfs]"
   ]
  },
  {
   "cell_type": "code",
   "execution_count": 6,
   "id": "c58eb882-ad50-4dc8-a049-1e53618bf605",
   "metadata": {},
   "outputs": [
    {
     "data": {
      "text/plain": [
       "<AxesSubplot:xlabel='df'>"
      ]
     },
     "execution_count": 6,
     "metadata": {},
     "output_type": "execute_result"
    },
    {
     "data": {
      "image/png": "[encoded data removed]",
      "text/plain": [
       "<Figure size 432x288 with 1 Axes>"
      ]
     },
     "metadata": {
      "needs_background": "light"
     },
     "output_type": "display_data"
    }
   ],
   "source": [
    "df2 = df.copy()\n",
    "df2.loc[:, \"simulated\"] = simulated\n",
    "df2.plot(\"df\", logx=True)"
   ]
  },
  {
   "cell_type": "markdown",
   "id": "fcf84c7e-9ee0-4d7e-926e-d98b3180b240",
   "metadata": {},
   "source": [
    "No difference visually, that's a good sign...\n",
    "\n",
    "Calculating absolute and relative errors:"
   ]
  },
  {
   "cell_type": "code",
   "execution_count": 7,
   "id": "f4687249-d898-4904-8945-3e263815d887",
   "metadata": {},
   "outputs": [],
   "source": [
    "df2.loc[:, \"abs_err\"] = (df2.simulated - df2.uppers)\n",
    "df2.loc[:, \"rel_err\"] = (df2.simulated - df2.uppers) / df.uppers"
   ]
  },
  {
   "cell_type": "code",
   "execution_count": 8,
   "id": "d9145463-b935-41f6-b313-8e39c228f6b2",
   "metadata": {},
   "outputs": [
    {
     "data": {
      "text/plain": [
       "<AxesSubplot:xlabel='df', ylabel='Absolute error'>"
      ]
     },
     "execution_count": 8,
     "metadata": {},
     "output_type": "execute_result"
    },
    {
     "data": {
      "image/png": "[encoded data removed]",
      "text/plain": [
       "<Figure size 432x288 with 1 Axes>"
      ]
     },
     "metadata": {
      "needs_background": "light"
     },
     "output_type": "display_data"
    }
   ],
   "source": [
    "df2.plot.scatter(\"df\", \"abs_err\", ylabel=\"Absolute error\")"
   ]
  },
  {
   "cell_type": "code",
   "execution_count": 9,
   "id": "ce8b488a-018a-4b8c-852c-1a7ee060d2e7",
   "metadata": {},
   "outputs": [
    {
     "data": {
      "text/plain": [
       "<AxesSubplot:xlabel='df', ylabel='Relative error (%)'>"
      ]
     },
     "execution_count": 9,
     "metadata": {},
     "output_type": "execute_result"
    },
    {
     "data": {
      "image/png": "[encoded data removed]",
      "text/plain": [
       "<Figure size 432x288 with 1 Axes>"
      ]
     },
     "metadata": {
      "needs_background": "light"
     },
     "output_type": "display_data"
    }
   ],
   "source": [
    "df2.plot.scatter(\"df\", \"rel_err\", ylabel=\"Relative error (%)\")"
   ]
  },
  {
   "cell_type": "code",
   "execution_count": 10,
   "id": "1908cf2a-0acd-4563-8588-b355ad4045ce",
   "metadata": {},
   "outputs": [
    {
     "name": "stdout",
     "output_type": "stream",
     "text": [
      "Maximum relative error: 0.33%\n"
     ]
    }
   ],
   "source": [
    "print(f\"Maximum relative error: {df2.rel_err.abs().max():.2%}\")"
   ]
  },
  {
   "cell_type": "markdown",
   "id": "b9956a21-0927-41b7-bbbf-120bca6e322a",
   "metadata": {},
   "source": [
    "That should work!\n",
    "\n",
    "Showing the first 30 rows:"
   ]
  },
  {
   "cell_type": "code",
   "execution_count": 11,
   "id": "50d64e83-f606-4a54-97af-f769d1fbe54d",
   "metadata": {},
   "outputs": [
    {
     "data": {
      "text/html": [
       "<div>\n",
       "<style scoped>\n",
       "    .dataframe tbody tr th:only-of-type {\n",
       "        vertical-align: middle;\n",
       "    }\n",
       "\n",
       "    .dataframe tbody tr th {\n",
       "        vertical-align: top;\n",
       "    }\n",
       "\n",
       "    .dataframe thead th {\n",
       "        text-align: right;\n",
       "    }\n",
       "</style>\n",
       "<table border=\"1\" class=\"dataframe\">\n",
       "  <thead>\n",
       "    <tr style=\"text-align: right;\">\n",
       "      <th></th>\n",
       "      <th>uppers</th>\n",
       "      <th>simulated</th>\n",
       "      <th>abs_err</th>\n",
       "      <th>rel_err</th>\n",
       "    </tr>\n",
       "    <tr>\n",
       "      <th>df</th>\n",
       "      <th></th>\n",
       "      <th></th>\n",
       "      <th></th>\n",
       "      <th></th>\n",
       "    </tr>\n",
       "  </thead>\n",
       "  <tbody>\n",
       "    <tr>\n",
       "      <th>1</th>\n",
       "      <td>12.706205</td>\n",
       "      <td>12.706205</td>\n",
       "      <td>-2.573959e-10</td>\n",
       "      <td>-2.025750e-11</td>\n",
       "    </tr>\n",
       "    <tr>\n",
       "      <th>2</th>\n",
       "      <td>4.302653</td>\n",
       "      <td>4.301780</td>\n",
       "      <td>-8.731474e-04</td>\n",
       "      <td>-2.029323e-04</td>\n",
       "    </tr>\n",
       "    <tr>\n",
       "      <th>3</th>\n",
       "      <td>3.182446</td>\n",
       "      <td>3.187155</td>\n",
       "      <td>4.709047e-03</td>\n",
       "      <td>1.479694e-03</td>\n",
       "    </tr>\n",
       "    <tr>\n",
       "      <th>4</th>\n",
       "      <td>2.776445</td>\n",
       "      <td>2.767210</td>\n",
       "      <td>-9.235114e-03</td>\n",
       "      <td>-3.326237e-03</td>\n",
       "    </tr>\n",
       "    <tr>\n",
       "      <th>5</th>\n",
       "      <td>2.570582</td>\n",
       "      <td>2.576720</td>\n",
       "      <td>6.137862e-03</td>\n",
       "      <td>2.387733e-03</td>\n",
       "    </tr>\n",
       "    <tr>\n",
       "      <th>6</th>\n",
       "      <td>2.446912</td>\n",
       "      <td>2.450334</td>\n",
       "      <td>3.421744e-03</td>\n",
       "      <td>1.398393e-03</td>\n",
       "    </tr>\n",
       "    <tr>\n",
       "      <th>7</th>\n",
       "      <td>2.364624</td>\n",
       "      <td>2.359062</td>\n",
       "      <td>-5.562725e-03</td>\n",
       "      <td>-2.352478e-03</td>\n",
       "    </tr>\n",
       "    <tr>\n",
       "      <th>8</th>\n",
       "      <td>2.306004</td>\n",
       "      <td>2.304148</td>\n",
       "      <td>-1.855917e-03</td>\n",
       "      <td>-8.048194e-04</td>\n",
       "    </tr>\n",
       "    <tr>\n",
       "      <th>9</th>\n",
       "      <td>2.262157</td>\n",
       "      <td>2.268334</td>\n",
       "      <td>6.176574e-03</td>\n",
       "      <td>2.730391e-03</td>\n",
       "    </tr>\n",
       "    <tr>\n",
       "      <th>10</th>\n",
       "      <td>2.228139</td>\n",
       "      <td>2.224500</td>\n",
       "      <td>-3.638556e-03</td>\n",
       "      <td>-1.633002e-03</td>\n",
       "    </tr>\n",
       "    <tr>\n",
       "      <th>11</th>\n",
       "      <td>2.200985</td>\n",
       "      <td>2.201705</td>\n",
       "      <td>7.202294e-04</td>\n",
       "      <td>3.272305e-04</td>\n",
       "    </tr>\n",
       "    <tr>\n",
       "      <th>12</th>\n",
       "      <td>2.178813</td>\n",
       "      <td>2.178086</td>\n",
       "      <td>-7.269012e-04</td>\n",
       "      <td>-3.336226e-04</td>\n",
       "    </tr>\n",
       "    <tr>\n",
       "      <th>13</th>\n",
       "      <td>2.160369</td>\n",
       "      <td>2.160612</td>\n",
       "      <td>2.430022e-04</td>\n",
       "      <td>1.124818e-04</td>\n",
       "    </tr>\n",
       "    <tr>\n",
       "      <th>14</th>\n",
       "      <td>2.144787</td>\n",
       "      <td>2.145318</td>\n",
       "      <td>5.314804e-04</td>\n",
       "      <td>2.478010e-04</td>\n",
       "    </tr>\n",
       "    <tr>\n",
       "      <th>15</th>\n",
       "      <td>2.131450</td>\n",
       "      <td>2.131925</td>\n",
       "      <td>4.758560e-04</td>\n",
       "      <td>2.232546e-04</td>\n",
       "    </tr>\n",
       "    <tr>\n",
       "      <th>16</th>\n",
       "      <td>2.119905</td>\n",
       "      <td>2.120183</td>\n",
       "      <td>2.777452e-04</td>\n",
       "      <td>1.310177e-04</td>\n",
       "    </tr>\n",
       "    <tr>\n",
       "      <th>17</th>\n",
       "      <td>2.109816</td>\n",
       "      <td>2.109868</td>\n",
       "      <td>5.276830e-05</td>\n",
       "      <td>2.501086e-05</td>\n",
       "    </tr>\n",
       "    <tr>\n",
       "      <th>18</th>\n",
       "      <td>2.100922</td>\n",
       "      <td>2.100784</td>\n",
       "      <td>-1.380189e-04</td>\n",
       "      <td>-6.569446e-05</td>\n",
       "    </tr>\n",
       "    <tr>\n",
       "      <th>19</th>\n",
       "      <td>2.093024</td>\n",
       "      <td>2.092756</td>\n",
       "      <td>-2.678224e-04</td>\n",
       "      <td>-1.279595e-04</td>\n",
       "    </tr>\n",
       "    <tr>\n",
       "      <th>20</th>\n",
       "      <td>2.085963</td>\n",
       "      <td>2.085633</td>\n",
       "      <td>-3.307961e-04</td>\n",
       "      <td>-1.585819e-04</td>\n",
       "    </tr>\n",
       "    <tr>\n",
       "      <th>21</th>\n",
       "      <td>2.079614</td>\n",
       "      <td>2.079281</td>\n",
       "      <td>-3.332393e-04</td>\n",
       "      <td>-1.602410e-04</td>\n",
       "    </tr>\n",
       "    <tr>\n",
       "      <th>22</th>\n",
       "      <td>2.073873</td>\n",
       "      <td>2.073585</td>\n",
       "      <td>-2.877681e-04</td>\n",
       "      <td>-1.387588e-04</td>\n",
       "    </tr>\n",
       "    <tr>\n",
       "      <th>23</th>\n",
       "      <td>2.068658</td>\n",
       "      <td>2.068448</td>\n",
       "      <td>-2.094886e-04</td>\n",
       "      <td>-1.012679e-04</td>\n",
       "    </tr>\n",
       "    <tr>\n",
       "      <th>24</th>\n",
       "      <td>2.063899</td>\n",
       "      <td>2.063785</td>\n",
       "      <td>-1.135351e-04</td>\n",
       "      <td>-5.501003e-05</td>\n",
       "    </tr>\n",
       "    <tr>\n",
       "      <th>25</th>\n",
       "      <td>2.059539</td>\n",
       "      <td>2.059525</td>\n",
       "      <td>-1.355038e-05</td>\n",
       "      <td>-6.579328e-06</td>\n",
       "    </tr>\n",
       "    <tr>\n",
       "      <th>26</th>\n",
       "      <td>2.055529</td>\n",
       "      <td>2.055609</td>\n",
       "      <td>7.917847e-05</td>\n",
       "      <td>3.851975e-05</td>\n",
       "    </tr>\n",
       "    <tr>\n",
       "      <th>27</th>\n",
       "      <td>2.051831</td>\n",
       "      <td>2.051987</td>\n",
       "      <td>1.561279e-04</td>\n",
       "      <td>7.609202e-05</td>\n",
       "    </tr>\n",
       "    <tr>\n",
       "      <th>28</th>\n",
       "      <td>2.048407</td>\n",
       "      <td>2.048619</td>\n",
       "      <td>2.116293e-04</td>\n",
       "      <td>1.033141e-04</td>\n",
       "    </tr>\n",
       "    <tr>\n",
       "      <th>29</th>\n",
       "      <td>2.045230</td>\n",
       "      <td>2.045472</td>\n",
       "      <td>2.427425e-04</td>\n",
       "      <td>1.186872e-04</td>\n",
       "    </tr>\n",
       "    <tr>\n",
       "      <th>30</th>\n",
       "      <td>2.042272</td>\n",
       "      <td>2.042521</td>\n",
       "      <td>2.489855e-04</td>\n",
       "      <td>1.219159e-04</td>\n",
       "    </tr>\n",
       "  </tbody>\n",
       "</table>\n",
       "</div>"
      ],
      "text/plain": [
       "       uppers  simulated       abs_err       rel_err\n",
       "df                                                  \n",
       "1   12.706205  12.706205 -2.573959e-10 -2.025750e-11\n",
       "2    4.302653   4.301780 -8.731474e-04 -2.029323e-04\n",
       "3    3.182446   3.187155  4.709047e-03  1.479694e-03\n",
       "4    2.776445   2.767210 -9.235114e-03 -3.326237e-03\n",
       "5    2.570582   2.576720  6.137862e-03  2.387733e-03\n",
       "6    2.446912   2.450334  3.421744e-03  1.398393e-03\n",
       "7    2.364624   2.359062 -5.562725e-03 -2.352478e-03\n",
       "8    2.306004   2.304148 -1.855917e-03 -8.048194e-04\n",
       "9    2.262157   2.268334  6.176574e-03  2.730391e-03\n",
       "10   2.228139   2.224500 -3.638556e-03 -1.633002e-03\n",
       "11   2.200985   2.201705  7.202294e-04  3.272305e-04\n",
       "12   2.178813   2.178086 -7.269012e-04 -3.336226e-04\n",
       "13   2.160369   2.160612  2.430022e-04  1.124818e-04\n",
       "14   2.144787   2.145318  5.314804e-04  2.478010e-04\n",
       "15   2.131450   2.131925  4.758560e-04  2.232546e-04\n",
       "16   2.119905   2.120183  2.777452e-04  1.310177e-04\n",
       "17   2.109816   2.109868  5.276830e-05  2.501086e-05\n",
       "18   2.100922   2.100784 -1.380189e-04 -6.569446e-05\n",
       "19   2.093024   2.092756 -2.678224e-04 -1.279595e-04\n",
       "20   2.085963   2.085633 -3.307961e-04 -1.585819e-04\n",
       "21   2.079614   2.079281 -3.332393e-04 -1.602410e-04\n",
       "22   2.073873   2.073585 -2.877681e-04 -1.387588e-04\n",
       "23   2.068658   2.068448 -2.094886e-04 -1.012679e-04\n",
       "24   2.063899   2.063785 -1.135351e-04 -5.501003e-05\n",
       "25   2.059539   2.059525 -1.355038e-05 -6.579328e-06\n",
       "26   2.055529   2.055609  7.917847e-05  3.851975e-05\n",
       "27   2.051831   2.051987  1.561279e-04  7.609202e-05\n",
       "28   2.048407   2.048619  2.116293e-04  1.033141e-04\n",
       "29   2.045230   2.045472  2.427425e-04  1.186872e-04\n",
       "30   2.042272   2.042521  2.489855e-04  1.219159e-04"
      ]
     },
     "execution_count": 11,
     "metadata": {},
     "output_type": "execute_result"
    }
   ],
   "source": [
    "df2.set_index('df')[:30]"
   ]
  },
  {
   "cell_type": "code",
   "execution_count": 12,
   "id": "ac3408ed-66c9-443b-8f42-f123ceefb9e9",
   "metadata": {},
   "outputs": [
    {
     "data": {
      "text/html": [
       "<div>\n",
       "<style scoped>\n",
       "    .dataframe tbody tr th:only-of-type {\n",
       "        vertical-align: middle;\n",
       "    }\n",
       "\n",
       "    .dataframe tbody tr th {\n",
       "        vertical-align: top;\n",
       "    }\n",
       "\n",
       "    .dataframe thead th {\n",
       "        text-align: right;\n",
       "    }\n",
       "</style>\n",
       "<table border=\"1\" class=\"dataframe\">\n",
       "  <thead>\n",
       "    <tr style=\"text-align: right;\">\n",
       "      <th></th>\n",
       "      <th>df</th>\n",
       "      <th>uppers</th>\n",
       "      <th>simulated</th>\n",
       "      <th>abs_err</th>\n",
       "      <th>rel_err</th>\n",
       "    </tr>\n",
       "  </thead>\n",
       "  <tbody>\n",
       "    <tr>\n",
       "      <th>count</th>\n",
       "      <td>349.000000</td>\n",
       "      <td>349.000000</td>\n",
       "      <td>349.000000</td>\n",
       "      <td>3.490000e+02</td>\n",
       "      <td>3.490000e+02</td>\n",
       "    </tr>\n",
       "    <tr>\n",
       "      <th>mean</th>\n",
       "      <td>175.000000</td>\n",
       "      <td>2.034845</td>\n",
       "      <td>2.034844</td>\n",
       "      <td>-2.608646e-07</td>\n",
       "      <td>-1.195846e-07</td>\n",
       "    </tr>\n",
       "    <tr>\n",
       "      <th>std</th>\n",
       "      <td>100.891856</td>\n",
       "      <td>0.594073</td>\n",
       "      <td>0.594072</td>\n",
       "      <td>8.425207e-04</td>\n",
       "      <td>3.308377e-04</td>\n",
       "    </tr>\n",
       "    <tr>\n",
       "      <th>min</th>\n",
       "      <td>1.000000</td>\n",
       "      <td>1.966785</td>\n",
       "      <td>1.966860</td>\n",
       "      <td>-9.235114e-03</td>\n",
       "      <td>-3.326237e-03</td>\n",
       "    </tr>\n",
       "    <tr>\n",
       "      <th>25%</th>\n",
       "      <td>88.000000</td>\n",
       "      <td>1.969060</td>\n",
       "      <td>1.969066</td>\n",
       "      <td>-3.485767e-05</td>\n",
       "      <td>-1.768273e-05</td>\n",
       "    </tr>\n",
       "    <tr>\n",
       "      <th>50%</th>\n",
       "      <td>175.000000</td>\n",
       "      <td>1.973612</td>\n",
       "      <td>1.973652</td>\n",
       "      <td>6.872192e-08</td>\n",
       "      <td>3.475976e-08</td>\n",
       "    </tr>\n",
       "    <tr>\n",
       "      <th>75%</th>\n",
       "      <td>262.000000</td>\n",
       "      <td>1.987290</td>\n",
       "      <td>1.987332</td>\n",
       "      <td>3.420096e-05</td>\n",
       "      <td>1.737747e-05</td>\n",
       "    </tr>\n",
       "    <tr>\n",
       "      <th>max</th>\n",
       "      <td>349.000000</td>\n",
       "      <td>12.706205</td>\n",
       "      <td>12.706205</td>\n",
       "      <td>6.176574e-03</td>\n",
       "      <td>2.730391e-03</td>\n",
       "    </tr>\n",
       "  </tbody>\n",
       "</table>\n",
       "</div>"
      ],
      "text/plain": [
       "               df      uppers   simulated       abs_err       rel_err\n",
       "count  349.000000  349.000000  349.000000  3.490000e+02  3.490000e+02\n",
       "mean   175.000000    2.034845    2.034844 -2.608646e-07 -1.195846e-07\n",
       "std    100.891856    0.594073    0.594072  8.425207e-04  3.308377e-04\n",
       "min      1.000000    1.966785    1.966860 -9.235114e-03 -3.326237e-03\n",
       "25%     88.000000    1.969060    1.969066 -3.485767e-05 -1.768273e-05\n",
       "50%    175.000000    1.973612    1.973652  6.872192e-08  3.475976e-08\n",
       "75%    262.000000    1.987290    1.987332  3.420096e-05  1.737747e-05\n",
       "max    349.000000   12.706205   12.706205  6.176574e-03  2.730391e-03"
      ]
     },
     "execution_count": 12,
     "metadata": {},
     "output_type": "execute_result"
    }
   ],
   "source": [
    "df2.describe()"
   ]
  },
  {
   "cell_type": "markdown",
   "id": "dd2f002d-33b4-4be7-8e72-6e0d906d7c02",
   "metadata": {},
   "source": [
    "## Confirm javascript implemenation is the same as python\n",
    "\n",
    "To generate in javascript:\n",
    "\n",
    "```javascript\n",
    "console.log(JSON.stringify({values:_.range(1,350).map(inv_tdist_05)}))\n",
    "```\n",
    "\n",
    "The output is copied below and compared to our python simulated data:"
   ]
  },
  {
   "cell_type": "code",
   "execution_count": 13,
   "id": "f2333274-53c3-4f99-8b44-eb4c5617d4f4",
   "metadata": {},
   "outputs": [
    {
     "data": {
      "text/plain": [
       "count    3.490000e+02\n",
       "mean     6.381397e-16\n",
       "std      4.334341e-15\n",
       "min      0.000000e+00\n",
       "25%      0.000000e+00\n",
       "50%      0.000000e+00\n",
       "75%      2.220446e-16\n",
       "max      5.861978e-14\n",
       "dtype: float64"
      ]
     },
     "execution_count": 13,
     "metadata": {},
     "output_type": "execute_result"
    }
   ],
   "source": [
    "txt = '{\"values\":[12.7062047361747,4.301779582509312,3.1871553520088085,2.7672099913287695,2.576719698609363,2.4503335932468495,2.35906152566238,2.3041482182027515,2.2683337371729486,2.2245002959999134,2.2017053895295042,2.1780859284726732,2.1606116586136483,2.145318168287048,2.13192540154941,2.1201830443959344,2.1098683461365377,2.1007840212971045,2.0927562320459434,2.08563265114544,2.0792806054289166,2.073585299802687,2.068448121773319,2.0637850265000908,2.0595250023726566,2.0556086171139034,2.0519866444080206,2.0486187710537602,2.0454723846429066,2.04252144176394,2.0397454167309066,2.0371283308374872,2.03465786213627,2.032324535743218,2.0301209946673473,2.0280413511655966,2.026080618622904,2.024234223957484,2.022497600551303,2.0208658617057607,2.019333554622569,2.0178944949098296,2.0165416816133206,2.0152672927729807,2.014062761504584,2.012918932606644,2.0118262996924767,2.010775322847504,2.00975682681175,2.0087624796875003,2.0077853521722373,2.006820557316689,2.0058659708081494,2.00492303177898,2.0039976241402675,2.0031010384407653,2.002251014250958,2.0014728630723946,2.000800671772158,2.0002785865425583,1.9999621773861023,1.9987437069143683,1.9981671078955452,1.997603659522643,1.9970530657624572,1.9965150358777874,1.995989284364195,1.9954755308871324,1.9949735002194409,1.9944829221792224,1.994003531568078,1.9935350681097201,1.9930772763889537,1.9926299057910293,1.9921927104413641,1.9917654491456378,1.9913478853302549,1.99093978698318,1.9905409265951435,1.990151081101217,1.989770031822761,1.9893975644097397,1.9890334687834117,1.9886775390793867,1.9883295735910542,1.987989374713385,1.9876567488870995,1.9873315065432098,1.9870134620479303,1.9867024336479606,1.9863982434161382,1.9861007171974614,1.985809684555483,1.9855249787190759,1.9852464365295674,1.9849738983882452,1.984707208204234,1.9844462133427427,1.9841907645736814,1.9839407160206501,1.9836959251102977,1.9834562525220514,1.983221562138216,1.9829917209944465,1.9827665992305876,1.9825460700418862,1.9823300096305743,1.9821182971578224,1.9819108146960625,1.9817074471816825,1.9815080823680926,1.9813126107791592,1.9811209256630125,1.9809329229462223,1.9807485011883463,1.9805675615368479,1.980390007682385,1.9802157458144691,1.9800446845774955,1.9798767350271438,1.979711810587149,1.9795498270064436,1.9793907023166695,1.9792343567900617,1.9790807128977006,1.9789296952681386,1.9787812306463928,1.978635247853311,1.9784916777453083,1.9783504531744742,1.9782115089490484,1.9780747817942703,1.9779402103135968,1.9778077349502912,1.977677297949384,1.9775488433200024,1.9774223167980716,1.9772976658093868,1.9771748394330546,1.977053788365307,1.976934464883684,1.9768168228115877,1.9767008174832077,1.976586405708816,1.9764735457404328,1.9763621972378638,1.9762523212351057,1.9761438801071263,1.9760368375370105,1.9759311584834822,1.9758268091487907,1.9757237569469732,1.975621970472485,1.9755214194692008,1.975422074799787,1.9753239084154448,1.9752268933260224,1.9751310035705003,1.9750362141878446,1.9749425011882331,1.9748498415246514,1.9747582130648573,1.9746675945637207,1.9745779656359284,1.9744893067290645,1.9744015990970583,1.9743148247740039,1.97422896654835,1.9741440079374613,1.9740599331625495,1.973976727123975,1.9738943753769196,1.97381286410743,1.973732180108831,1.9736523107585102,1.9735732439950733,1.9734949682958693,1.9734174726548872,1.9733407465610215,1.9732647799767125,1.973189563316951,1.9731150874286594,1.97304134357044,1.9729683233926956,1.9728960189181195,1.972824422522556,1.9727535269162348,1.9726833251253697,1.9726138104741346,1.9725449765670058,1.9724768172714762,1.972409326701141,1.972342499199152,1.972276329322045,1.9722108118239352,1.9721459416410856,1.9720817138768438,1.972018123786952,1.971955166765225,1.9718928383296002,1.9718311341085586,1.9717700498279147,1.9717095812979797,1.9716497244010922,1.9715904750795215,1.9715318293237418,1.971473783161076,1.9714163326447092,1.9713594738430755,1.9713032028296136,1.9712475156728921,1.97119240842711,1.9711378771229593,1.971083917758868,1.9710305262926076,1.9709776986332717,1.970925430633627,1.970873718082835,1.970822556699542,1.970771942125342,1.9707218699186095,1.9706723355487021,1.970623334390535,1.9705748617195264,1.9705269127069098,1.9704794824154235,1.9704325657953645,1.9703861576810158,1.9703402527874445,1.970294845707671,1.9702499309102048,1.9702055027369578,1.9701615554015217,1.9701180829878193,1.9700750794491264,1.9700325386074633,1.9699904541533573,1.969948819645976,1.9699076285136317,1.9698668740546537,1.9698265494386356,1.9697866477080503,1.9697471617802351,1.9697080844497505,1.9696694083911057,1.9696311261618573,1.96959323020608,1.969555712858202,1.9695185663472183,1.96948178280127,1.9694453542525947,1.96940927264285,1.9693735298288046,1.9693381175884013,1.9693030276271912,1.9692682515851376,1.9692337810437914,1.969199607533835,1.9691657225430008,1.9691321175243561,1.969098783904959,1.969065713094892,1.9690328964966524,1.9690003255149293,1.9689679915667382,1.9689358860919326,1.9689040005640863,1.9688723265017445,1.9688408554800438,1.9688095791427087,1.9687784892144131,1.968747577513513,1.9687168359651541,1.9686862566147454,1.9686558316418057,1.9686255533741792,1.968595414302624,1.9685654070957685,1.968535524615441,1.9685057599323672,1.968476106342242,1.9684465573821681,1.9684171068474676,1.9683877488088617,1.9683584776300247,1.9683292879855072,1.9683001748790279,1.9682711336621366,1.9682421600532514,1.9682132501570626,1.9681844004843083,1.9681556079719194,1.9681268700035401,1.9680981844304126,1.9680695495926364,1.9680409643407955,1.9680124280579612,1.9679839406820596,1.9679555027286129,1.96792711531385,1.9678987801781909,1.9678704997100958,1.9678422769702895,1.9678141157163576,1.9677860204277073,1.9677579963309046,1.967730049425379,1.967702186509499,1.967674415207022,1.9676467439939085,1.9676191822255102,1.9675917401641314,1.967564429006956,1.9675372609143478,1.967510249038523,1.9674834075525867,1.9674567516799493,1.9674302977241083,1.9674040630987975,1.9673780663585156,1.9673523272294176,1.9673268666405792,1.9673017067556313,1.9672768710047754,1.9672523841171432,1.9672282721535608,1.9672045625396537,1.9671812840993452,1.9671584670887095,1.9671361432302037,1.9671143457472664,1.9670931093992925,1.9670724705169695,1.9670524670379934,1.9670331385431519,1.967014526292775,1.96699667326356,1.9669796241857693,1.9669634255807922,1.9669481257990793,1.9669337750584557,1.9669204254827894,1.9669081311410483,1.9668969480867098,1.9668869343975561,1.9668781502158295,1.9668706577887685,1.9668645215095006,1.9668598079583202]}'\n",
    "df2.loc[:, \"simulated_js\"] = json.loads(txt)[\"values\"]\n",
    "\n",
    "\n",
    "(df2.simulated - df2.simulated_js).abs().describe()"
   ]
  },
  {
   "cell_type": "markdown",
   "id": "ea759cb7-175a-41af-a9de-5205a2031f86",
   "metadata": {},
   "source": [
    "Given this, there's very little diference between our python and javascript approximations."
   ]
  }
 ],
 "metadata": {
  "kernelspec": {
   "display_name": "Python 3 (ipykernel)",
   "language": "python",
   "name": "python3"
  },
  "language_info": {
   "codemirror_mode": {
    "name": "ipython",
    "version": 3
   },
   "file_extension": ".py",
   "mimetype": "text/x-python",
   "name": "python",
   "nbconvert_exporter": "python",
   "pygments_lexer": "ipython3",
   "version": "3.9.2"
  }
 },
 "nbformat": 4,
 "nbformat_minor": 5
}
